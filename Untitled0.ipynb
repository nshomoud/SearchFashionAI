{
  "nbformat": 4,
  "nbformat_minor": 0,
  "metadata": {
    "colab": {
      "provenance": [],
      "authorship_tag": "ABX9TyN3CoqUu9tZAUmtqj65XDEN",
      "include_colab_link": true
    },
    "kernelspec": {
      "name": "python3",
      "display_name": "Python 3"
    },
    "language_info": {
      "name": "python"
    }
  },
  "cells": [
    {
      "cell_type": "markdown",
      "metadata": {
        "id": "view-in-github",
        "colab_type": "text"
      },
      "source": [
        "<a href=\"https://colab.research.google.com/github/nshomoud/Test/blob/main/Untitled0.ipynb\" target=\"_parent\"><img src=\"https://colab.research.google.com/assets/colab-badge.svg\" alt=\"Open In Colab\"/></a>"
      ]
    },
    {
      "cell_type": "code",
      "execution_count": null,
      "metadata": {
        "id": "D-ok-aOGtDQF",
        "colab": {
          "base_uri": "https://localhost:8080/"
        },
        "outputId": "e6617eee-556b-406b-b717-67fd46656b3e"
      },
      "outputs": [
        {
          "output_type": "stream",
          "name": "stdout",
          "text": [
            "Email addresses found: ['john@example.com', 'jane.doe@email.co.uk']\n"
          ]
        }
      ],
      "source": [
        "import re\n",
        "text = \"Contact me at john@example.com or jane.doe@email.co.uk for more information.\"\n",
        "pattern = r'\\b[A-Za-z0-9._%+-]+@[A-Za-z0-9.-]+\\.[A-Z|a-z]{2,}\\b'\n",
        "emails = re.findall(pattern, text)\n",
        "print(\"Email addresses found:\", emails)"
      ]
    }
  ]
}