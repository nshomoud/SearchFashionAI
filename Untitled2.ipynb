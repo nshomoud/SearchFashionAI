{
  "nbformat": 4,
  "nbformat_minor": 0,
  "metadata": {
    "colab": {
      "provenance": [],
      "authorship_tag": "ABX9TyM6SEQHfhDy5NpLyDmwDM6H",
      "include_colab_link": true
    },
    "kernelspec": {
      "name": "python3",
      "display_name": "Python 3"
    },
    "language_info": {
      "name": "python"
    }
  },
  "cells": [
    {
      "cell_type": "markdown",
      "metadata": {
        "id": "view-in-github",
        "colab_type": "text"
      },
      "source": [
        "<a href=\"https://colab.research.google.com/github/nshomoud/Test/blob/main/Untitled2.ipynb\" target=\"_parent\"><img src=\"https://colab.research.google.com/assets/colab-badge.svg\" alt=\"Open In Colab\"/></a>"
      ]
    },
    {
      "cell_type": "code",
      "source": [
        "import pandas as pd\n",
        "import nltk\n",
        "from nltk.tokenize import word_tokenize\n",
        "\n",
        "# Download NLTK data\n",
        "nltk.download('punkt')\n",
        "\n",
        "# Load data\n",
        "file_name = 'HolidayData2.csv'\n",
        "data = pd.read_csv(file_name)\n",
        "\n",
        "def recommend_destination(criteria):\n",
        "    # Tokenize user input\n",
        "    tokens = word_tokenize(criteria.lower())\n",
        "\n",
        "    # Filter data based on all keywords present in the description\n",
        "    filtered_data = data\n",
        "    for token in tokens:\n",
        "        filtered_data = filtered_data[filtered_data['Description'].str.lower().str.contains(token)]\n",
        "\n",
        "    if filtered_data.empty:\n",
        "        return \"No matching holiday destination found.\"\n",
        "    else:\n",
        "        return filtered_data[['Destination', 'Description']].head(3).to_dict('records')\n",
        "def ask_questions(questions):\n",
        "    user_preferences = {}\n",
        "    for key, question in questions.items():\n",
        "        user_input = input(question + \"\\n\")\n",
        "        user_preferences[key] = user_input\n",
        "    return user_preferences\n",
        "\n",
        "# Welcome message and initial instructions\n",
        "print(\"Welcome to AI Travel Planner!\")\n",
        "print(\"I'm here to help you find your perfect holiday destination.\")\n",
        "print(\"Please answer a few questions to get started.\")\n",
        "\n",
        "# Questions for user preferences\n",
        "questions = {\n",
        "    'Destination': 'Where would you like to go? (e.g., beach, mountains)',\n",
        "    'Package': 'What type of package are you interested in? (e.g., Deluxe, Standard)',\n",
        "    'Origin': 'Where will you be traveling from? (city/country)',\n",
        "    'Duration': 'How many days do you plan to stay?',\n",
        "    'Budget': 'What is your budget for the trip?'\n",
        "}\n",
        "\n",
        "# Gather user preferences\n",
        "user_preferences = ask_questions(questions)\n",
        "\n",
        "# Concatenate user preferences into a single string\n",
        "user_criteria = ' '.join(user_preferences.values())\n",
        "\n",
        "# Recommend destinations based on user preferences\n",
        "recommendations = recommend_destination(user_criteria)\n",
        "\n",
        "# Display recommendations\n",
        "print(\"\\nRecommended Destinations:\")\n",
        "for rec in recommendations:\n",
        "    print(rec)\n"
      ],
      "metadata": {
        "colab": {
          "base_uri": "https://localhost:8080/"
        },
        "id": "HUlyJvTHgIYd",
        "outputId": "0a34cd46-53e5-4f18-9e96-9c4c656623bc"
      },
      "execution_count": null,
      "outputs": [
        {
          "output_type": "stream",
          "name": "stderr",
          "text": [
            "[nltk_data] Downloading package punkt to /root/nltk_data...\n",
            "[nltk_data]   Package punkt is already up-to-date!\n"
          ]
        },
        {
          "output_type": "stream",
          "name": "stdout",
          "text": [
            "Welcome to AI Travel Planner!\n",
            "I'm here to help you find your perfect holiday destination.\n",
            "Please answer a few questions to get started.\n"
          ]
        }
      ]
    },
    {
      "cell_type": "code",
      "source": [],
      "metadata": {
        "id": "K8K-JdS9wLCK"
      },
      "execution_count": null,
      "outputs": []
    }
  ]
}