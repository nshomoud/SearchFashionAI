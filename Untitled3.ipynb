{
  "nbformat": 4,
  "nbformat_minor": 0,
  "metadata": {
    "colab": {
      "provenance": [],
      "authorship_tag": "ABX9TyOTBnsWmOW20tYh56PXENzy",
      "include_colab_link": true
    },
    "kernelspec": {
      "name": "python3",
      "display_name": "Python 3"
    },
    "language_info": {
      "name": "python"
    }
  },
  "cells": [
    {
      "cell_type": "markdown",
      "metadata": {
        "id": "view-in-github",
        "colab_type": "text"
      },
      "source": [
        "<a href=\"https://colab.research.google.com/github/nshomoud/Test/blob/main/Untitled3.ipynb\" target=\"_parent\"><img src=\"https://colab.research.google.com/assets/colab-badge.svg\" alt=\"Open In Colab\"/></a>"
      ]
    },
    {
      "cell_type": "code",
      "execution_count": null,
      "metadata": {
        "colab": {
          "base_uri": "https://localhost:8080/"
        },
        "id": "6My-sfiyET2a",
        "outputId": "33e4f59d-25b4-4427-f7c8-19c486f61ac0"
      },
      "outputs": [
        {
          "output_type": "stream",
          "name": "stdout",
          "text": [
            "Hi, I can help you plan your trip. Let's get started!\n"
          ]
        }
      ],
      "source": [
        "import pandas as pd\n",
        "\n",
        "# Load the travel details dataset\n",
        "df = pd.read_csv('/content/Travel_details_dataset.csv')\n",
        "\n",
        "# Function to recommend destinations based on traveler nationality and duration of the trip\n",
        "def recommend_destinations(nationality, min_duration):\n",
        "    recommendations = df[(df['Traveler nationality'] == nationality) & (df['Duration (days)'] >= min_duration)]\n",
        "    return recommendations[['Destination', 'Duration (days)']]\n",
        "\n",
        "# Function to recommend accommodation types and their cost based on destination and preferred accommodation type\n",
        "def recommend_accommodations(destination, accommodation_type):\n",
        "    accommodations = df[(df['Destination'] == destination) & (df['Accommodation type'].str.lower() == accommodation_type.lower())]\n",
        "    return accommodations[['Accommodation type', 'Accommodation cost']]\n",
        "\n",
        "# Simple function to simulate a chatbot interaction\n",
        "def chatbot():\n",
        "    print(\"Hi, I can help you plan your trip. Let's get started!\")\n",
        "\n",
        "    while True:\n",
        "        nationality = input(\"Please enter your nationality: \")\n",
        "        min_duration = int(input(\"What is the minimum duration of your trip (in days)? \"))\n",
        "\n",
        "        dest_recommendations = recommend_destinations(nationality, min_duration)\n",
        "        if not dest_recommendations.empty:\n",
        "            print(\"Based on your nationality and trip duration, here are some recommended destinations:\")\n",
        "            print(dest_recommendations)\n",
        "\n",
        "            destination = input(\"Please enter a destination from the recommended list: \")\n",
        "            accommodation_type = input(\"Please enter your preferred type of accommodation (e.g., Hotel, Airbnb, etc.): \")\n",
        "\n",
        "            acc_recommendations = recommend_accommodations(destination, accommodation_type)\n",
        "            if not acc_recommendations.empty:\n",
        "                print(f\"\\nAccommodation options for {destination} (Type: {accommodation_type}):\")\n",
        "                for idx, row in acc_recommendations.iterrows():\n",
        "                    print(f\"Accommodation Type: {row['Accommodation type']}, Cost: {row['Accommodation cost']}\")\n",
        "            else:\n",
        "                print(f\"Sorry, no accommodations of type '{accommodation_type}' found for {destination}.\")\n",
        "        else:\n",
        "            print(\"Sorry, no destinations found for your criteria.\")\n",
        "\n",
        "        more_recommendations = input(\"Would you like to enter your nationality again for more recommendations? (yes/no): \").strip().lower()\n",
        "        if more_recommendations != 'yes':\n",
        "            break\n",
        "\n",
        "# Run the chatbot\n",
        "chatbot()\n"
      ]
    }
  ]
}